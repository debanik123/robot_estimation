{
 "cells": [
  {
   "cell_type": "code",
   "execution_count": 13,
   "metadata": {},
   "outputs": [],
   "source": [
    "def localize(colors,measurements,motions,sensor_right,p_move):\n",
    "    \n",
    "    # initializes p to a uniform distribution over a grid of the same dimensions as colors\n",
    "    pinit = 1.0 / float(len(colors)) / float(len(colors[0]))\n",
    "    p = [[pinit for row in range(len(colors[0]))] for col in range(len(colors))]\n",
    "    \n",
    "    # >>> Insert your code here <<<\n",
    "    for i in range(len(measurements)):\n",
    "        p = move(p, motions[i], p_move, colors)\n",
    "        p = sense(p, measurements[i], sensor_right, colors)\n",
    "    return p"
   ]
  },
  {
   "cell_type": "code",
   "execution_count": 14,
   "metadata": {},
   "outputs": [],
   "source": [
    "def sense(p, Z, pHit, colors):\n",
    "    pMiss = 1. - pHit\n",
    "    q = [[0 for row in range(len(colors[0]))] for col in range(len(colors))]\n",
    "    for x in range(len(p[0])):\n",
    "        for y in range(len(p)):\n",
    "            hit = (Z == colors[y][x]) \n",
    "            q[y][x] = (p[y][x] * (hit * pHit + (1-hit) * pMiss))\n",
    "    s = sum(map(sum,q))\n",
    "    for x in range(len(q[0])):\n",
    "        for y in range(len(q)):\n",
    "            q[y][x] = q[y][x] / s\n",
    "    return q"
   ]
  },
  {
   "cell_type": "code",
   "execution_count": 15,
   "metadata": {},
   "outputs": [],
   "source": [
    "def move(p, U, p_move, colors):\n",
    "    p_stay = 1. - p_move\n",
    "    q = [[0 for row in range(len(colors[0]))] for col in range(len(colors))]\n",
    "    for x in range(len(q[0])):\n",
    "        for y in range(len(q)):\n",
    "            s = p_move * p[(y-U[0]) % len(p)][(x-U[1]) % len(p[0])]\n",
    "            s += p_stay * p[y][x]\n",
    "            q[y][x] = s\n",
    "    return q"
   ]
  },
  {
   "cell_type": "code",
   "execution_count": 16,
   "metadata": {},
   "outputs": [],
   "source": [
    "colors = [['R','G','G','R','R'],\n",
    "          ['R','R','G','R','R'],\n",
    "          ['R','R','G','G','R'],\n",
    "          ['R','R','R','R','R']]\n",
    "measurements = ['G','G','G','G','G']\n",
    "motions = [[0,0],[0,1],[1,0],[1,0],[0,1]]\n",
    "p = localize(colors,measurements,motions,sensor_right = 0.7, p_move = 0.8)"
   ]
  },
  {
   "cell_type": "code",
   "execution_count": 17,
   "metadata": {},
   "outputs": [
    {
     "data": {
      "text/plain": [
       "[[0.011059807427972008,\n",
       "  0.02464041578496803,\n",
       "  0.06799662806785917,\n",
       "  0.04472487045812158,\n",
       "  0.024651531216653717],\n",
       " [0.0071532041833209815,\n",
       "  0.01017132648170589,\n",
       "  0.08696596002664689,\n",
       "  0.07988429965998083,\n",
       "  0.009350668508437186],\n",
       " [0.007397366886111671,\n",
       "  0.008943730670452702,\n",
       "  0.11272964670259773,\n",
       "  0.3535072295521271,\n",
       "  0.04065549207827676],\n",
       " [0.009106505805646497,\n",
       "  0.0071532041833209815,\n",
       "  0.01434922161834657,\n",
       "  0.043133291358448934,\n",
       "  0.03642559932900473]]"
      ]
     },
     "execution_count": 17,
     "metadata": {},
     "output_type": "execute_result"
    }
   ],
   "source": [
    "p"
   ]
  },
  {
   "cell_type": "code",
   "execution_count": null,
   "metadata": {},
   "outputs": [],
   "source": []
  }
 ],
 "metadata": {
  "kernelspec": {
   "display_name": "Python 3",
   "language": "python",
   "name": "python3"
  },
  "language_info": {
   "codemirror_mode": {
    "name": "ipython",
    "version": 3
   },
   "file_extension": ".py",
   "mimetype": "text/x-python",
   "name": "python",
   "nbconvert_exporter": "python",
   "pygments_lexer": "ipython3",
   "version": "3.6.9"
  }
 },
 "nbformat": 4,
 "nbformat_minor": 4
}
