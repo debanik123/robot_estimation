{
 "cells": [
  {
   "cell_type": "code",
   "execution_count": 8,
   "metadata": {},
   "outputs": [
    {
     "name": "stdout",
     "output_type": "stream",
     "text": [
      "False\n",
      "True\n",
      "True\n",
      "False\n",
      "False\n",
      "all prob add up to one [0.1111111111111111, 0.3333333333333332, 0.3333333333333332, 0.1111111111111111, 0.1111111111111111]\n"
     ]
    },
    {
     "data": {
      "text/plain": [
       "[0.1111111111111111,\n",
       " 0.3333333333333332,\n",
       " 0.3333333333333332,\n",
       " 0.1111111111111111,\n",
       " 0.1111111111111111]"
      ]
     },
     "execution_count": 8,
     "metadata": {},
     "output_type": "execute_result"
    }
   ],
   "source": [
    "p = [0.2, 0.2, 0.2, 0.2, 0.2]\n",
    "world = ['green', 'red', 'red', 'green', 'green']\n",
    "\n",
    "z = 'red'\n",
    "\n",
    "pHit = 0.6\n",
    "pMiss = 0.2\n",
    "\n",
    "def sense(p, Z):\n",
    "    q = []\n",
    "    for i in range(len(p)):\n",
    "        hit = (z == world[i])\n",
    "        print(hit)\n",
    "        q.append(p[i]*(hit*pHit + (1-hit)*pMiss))\n",
    "    s = sum(q)\n",
    "    for i in range(len(p)):\n",
    "        q[i] /= s\n",
    "    print('all prob add up to one {}'.format(q))\n",
    "    return q\n",
    "\n",
    "sense(p,z)\n"
   ]
  },
  {
   "cell_type": "code",
   "execution_count": 9,
   "metadata": {},
   "outputs": [
    {
     "name": "stdout",
     "output_type": "stream",
     "text": [
      "True\n",
      "False\n",
      "False\n",
      "True\n",
      "True\n",
      "all prob add up to one [0.2727272727272727, 0.09090909090909093, 0.09090909090909093, 0.2727272727272727, 0.2727272727272727]\n"
     ]
    },
    {
     "data": {
      "text/plain": [
       "[0.2727272727272727,\n",
       " 0.09090909090909093,\n",
       " 0.09090909090909093,\n",
       " 0.2727272727272727,\n",
       " 0.2727272727272727]"
      ]
     },
     "execution_count": 9,
     "metadata": {},
     "output_type": "execute_result"
    }
   ],
   "source": [
    "p = [0.2, 0.2, 0.2, 0.2, 0.2]\n",
    "world = ['green', 'red', 'red', 'green', 'green']\n",
    "\n",
    "z = 'green'\n",
    "\n",
    "pHit = 0.6\n",
    "pMiss = 0.2\n",
    "\n",
    "def sense(p, Z):\n",
    "    q = []\n",
    "    for i in range(len(p)):\n",
    "        hit = (z == world[i])\n",
    "        print(hit)\n",
    "        q.append(p[i]*(hit*pHit + (1-hit)*pMiss))\n",
    "    s = sum(q)\n",
    "    for i in range(len(p)):\n",
    "        q[i] /= s\n",
    "    print('all prob add up to one {}'.format(q))\n",
    "    return q\n",
    "\n",
    "sense(p,z)\n"
   ]
  },
  {
   "cell_type": "code",
   "execution_count": 14,
   "metadata": {},
   "outputs": [
    {
     "name": "stdout",
     "output_type": "stream",
     "text": [
      "[0.2000000000000001, 0.2000000000000001, 0.2000000000000001, 0.2000000000000001, 0.2000000000000001]\n"
     ]
    }
   ],
   "source": [
    "p = [0.2, 0.2, 0.2, 0.2, 0.2]\n",
    "world = ['green', 'red', 'red', 'green', 'green']\n",
    "\n",
    "mesurement = ['red','green']\n",
    "\n",
    "pHit = 0.6\n",
    "pMiss = 0.2\n",
    "pExact = 0.8\n",
    "pOvershoot = 0.1\n",
    "pUndershoot = 0.1\n",
    "motions = [1, 1]\n",
    "\n",
    "def sense(p, Z):\n",
    "    q = []\n",
    "    for i in range(len(p)):\n",
    "        hit = (z == world[i])\n",
    "\n",
    "        q.append(p[i]*(hit*pHit + (1-hit)*pMiss))\n",
    "    s = sum(q)\n",
    "    for i in range(len(p)):\n",
    "        q[i] /= s\n",
    "    return q\n",
    "\n",
    "def move(p, U):\n",
    "    q = []\n",
    "    for i in range(len(p)):\n",
    "        s = pExact * p[(i-U)%len(p)]\n",
    "        s += pOvershoot * p[(i-U-1)%len(p)]\n",
    "        s += pUndershoot * p[(i-U+1)%len(p)]\n",
    "        \n",
    "        q.append(s)\n",
    "    return q\n",
    "\n",
    "#for k in range(len(mesurement)):\n",
    "    #p = sense(p, mesurement[k])\n",
    "    \n",
    "    \n",
    "p = move(p, 1)\n",
    "p = move(p, 1)\n",
    "print(p)\n"
   ]
  },
  {
   "cell_type": "code",
   "execution_count": 17,
   "metadata": {},
   "outputs": [
    {
     "name": "stdout",
     "output_type": "stream",
     "text": [
      "[0.010000000000000002, 0.010000000000000002, 0.16000000000000003, 0.6600000000000001, 0.16000000000000003]\n",
      "[0.2000000000000035, 0.2000000000000035, 0.20000000000000365, 0.20000000000000373, 0.20000000000000365]\n"
     ]
    }
   ],
   "source": [
    "p = [0, 1, 0, 0, 0]\n",
    "world = ['green', 'red', 'red', 'green', 'green']\n",
    "\n",
    "mesurement = ['red','green']\n",
    "\n",
    "pHit = 0.6\n",
    "pMiss = 0.2\n",
    "pExact = 0.8\n",
    "pOvershoot = 0.1\n",
    "pUndershoot = 0.1\n",
    "motions = [1, 1]\n",
    "\n",
    "def sense(p, Z):\n",
    "    q = []\n",
    "    for i in range(len(p)):\n",
    "        hit = (z == world[i])\n",
    "\n",
    "        q.append(p[i]*(hit*pHit + (1-hit)*pMiss))\n",
    "    s = sum(q)\n",
    "    for i in range(len(p)):\n",
    "        q[i] /= s\n",
    "    return q\n",
    "\n",
    "def move(p, U):\n",
    "    q = []\n",
    "    for i in range(len(p)):\n",
    "        s = pExact * p[(i-U)%len(p)]\n",
    "        s += pOvershoot * p[(i-U-1)%len(p)]\n",
    "        s += pUndershoot * p[(i-U+1)%len(p)]\n",
    "        \n",
    "        q.append(s)\n",
    "    return q\n",
    "\n",
    "#for k in range(len(mesurement)):\n",
    "    #p = sense(p, mesurement[k])\n",
    "    \n",
    "    \n",
    "p = move(p, 1)\n",
    "p = move(p, 1)\n",
    "print(p)\n",
    "for i in range(10000):\n",
    "    p = move(p, 1)\n",
    "print(p)\n",
    "    "
   ]
  },
  {
   "cell_type": "code",
   "execution_count": 23,
   "metadata": {},
   "outputs": [
    {
     "name": "stdout",
     "output_type": "stream",
     "text": [
      "[0.31920000000000004, 0.3328, 0.13040000000000002, 0.06400000000000002, 0.15360000000000004]\n"
     ]
    }
   ],
   "source": [
    "p = [0.2, 0.2, 0.2, 0.2, 0.2]\n",
    "world = ['green', 'red', 'red', 'green', 'green']\n",
    "\n",
    "measurement = ['red','green']\n",
    "\n",
    "pHit = 0.6\n",
    "pMiss = 0.2\n",
    "pExact = 0.8\n",
    "\n",
    "pOvershoot = 0.1\n",
    "pUndershoot = 0.1\n",
    "\n",
    "motions = [1, 1]\n",
    "\n",
    "def sense(p, Z):\n",
    "    q = []\n",
    "    for i in range(len(p)):\n",
    "        hit = (z == world[i])\n",
    "\n",
    "        q.append(p[i]*(hit*pHit + (1-hit)*pMiss))\n",
    "    s = sum(q)\n",
    "    for i in range(len(p)):\n",
    "        q[i] /= s\n",
    "    return q\n",
    "\n",
    "def move(p, U):\n",
    "    q = []\n",
    "    for i in range(len(p)):\n",
    "        s = pExact * p[(i-U)%len(p)]\n",
    "        s += pOvershoot * p[(i-U-1)%len(p)]\n",
    "        s += pUndershoot * p[(i-U+1)%len(p)]\n",
    "        \n",
    "        q.append(s)\n",
    "    return q\n",
    "\n",
    "for k in range(len(measurement)):\n",
    "    p = sense(p, measurement[k])\n",
    "    p = move(p, motions[k])\n",
    "    \n",
    "    \n",
    "print(p)\n",
    "\n",
    "    "
   ]
  },
  {
   "cell_type": "code",
   "execution_count": 26,
   "metadata": {},
   "outputs": [
    {
     "name": "stdout",
     "output_type": "stream",
     "text": [
      "[0.31920000000000004, 0.3328, 0.13040000000000002, 0.06400000000000002, 0.15360000000000004]\n"
     ]
    }
   ],
   "source": [
    "p = [0.2, 0.2, 0.2, 0.2, 0.2]\n",
    "world = ['green', 'red', 'red', 'green', 'green']\n",
    "\n",
    "measurement = ['red','red']\n",
    "\n",
    "pHit = 0.6\n",
    "pMiss = 0.2\n",
    "pExact = 0.8\n",
    "\n",
    "pOvershoot = 0.1\n",
    "pUndershoot = 0.1\n",
    "\n",
    "motions = [1, 1]\n",
    "\n",
    "def sense(p, Z):\n",
    "    q = []\n",
    "    for i in range(len(p)):\n",
    "        hit = (z == world[i])\n",
    "\n",
    "        q.append(p[i]*(hit*pHit + (1-hit)*pMiss))\n",
    "    s = sum(q)\n",
    "    for i in range(len(p)):\n",
    "        q[i] /= s\n",
    "    return q\n",
    "\n",
    "def move(p, U):\n",
    "    q = []\n",
    "    for i in range(len(p)):\n",
    "        s = pExact * p[(i-U)%len(p)]\n",
    "        s += pOvershoot * p[(i-U-1)%len(p)]\n",
    "        s += pUndershoot * p[(i-U+1)%len(p)]\n",
    "        \n",
    "        q.append(s)\n",
    "    return q\n",
    "\n",
    "for k in range(len(measurement)):\n",
    "    p = sense(p, measurement[k])\n",
    "    p = move(p, motions[k])\n",
    "    \n",
    "    \n",
    "print(p)\n",
    "\n",
    "    "
   ]
  },
  {
   "cell_type": "code",
   "execution_count": null,
   "metadata": {},
   "outputs": [],
   "source": []
  }
 ],
 "metadata": {
  "kernelspec": {
   "display_name": "Python 3",
   "language": "python",
   "name": "python3"
  },
  "language_info": {
   "codemirror_mode": {
    "name": "ipython",
    "version": 3
   },
   "file_extension": ".py",
   "mimetype": "text/x-python",
   "name": "python",
   "nbconvert_exporter": "python",
   "pygments_lexer": "ipython3",
   "version": "3.6.9"
  }
 },
 "nbformat": 4,
 "nbformat_minor": 4
}
